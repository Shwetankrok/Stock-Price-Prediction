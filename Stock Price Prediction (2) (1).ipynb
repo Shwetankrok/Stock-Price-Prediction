{
 "cells": [
  {
   "cell_type": "markdown",
   "metadata": {},
   "source": [
    "# APPLE STOCK PRICE PREDICTION USING LONG SHORT TERM MEMORY (LSTM)"
   ]
  },
  {
   "cell_type": "markdown",
   "metadata": {},
   "source": [
    "#### OBJECTIVE: PREDICTING STOCK PRICES OF APPLE FOR NEXT 15 DAYS IN FUTURE"
   ]
  },
  {
   "cell_type": "markdown",
   "metadata": {},
   "source": [
    "#### <br>Approach</br>\n",
    " <br>Step 1: Collect Apple Stock Price Data till date from Tiingo (which is an API which provides free accessible stock price data)</br>\n",
    "<br>Link of Tiingo : <https://api.tiingo.com/></br>\n",
    " <br>Steps: To get data from Tiingo API</br>\n",
    "<br>Login via your account and you will be generated a unique key through which you can download the stock price </br>"
   ]
  },
  {
   "cell_type": "markdown",
   "metadata": {},
   "source": [
    "##### TASK:\n",
    "<br>1. Collected Apple Stock Price Data till date and split that stock price data into 70 % of data in training data which trains for stock prices by considering past 60 days stock price values.</br>\n",
    "<br>2. Test data will take from 30 % of data of stocks till date and also it will take past 60 days stock price values as we are using 60 days stock price past values for predicting next day stock price values.</br>\n",
    "<br>3. Plot the graph of actual stock price values and predicted stock price(of test data) to check how it is predicting.</br>\n",
    "<br>4. Find out stock price values of future 15 days based on past 60 days stock price value. </br>\n",
    "<br>5. Plot the graph of future 15 days stock price values from date and conclusion.</br>"
   ]
  },
  {
   "cell_type": "markdown",
   "metadata": {},
   "source": [
    "#### Importing libraries"
   ]
  },
  {
   "cell_type": "markdown",
   "metadata": {},
   "source": [
    "<br>pandas_datareader is subpackage which allows to create dataframe through various Internet data sources</br>"
   ]
  },
  {
   "cell_type": "code",
   "execution_count": 1,
   "metadata": {},
   "outputs": [
    {
     "name": "stderr",
     "output_type": "stream",
     "text": [
      "C:\\Users\\shwer\\AppData\\Local\\Continuum\\anaconda3\\lib\\site-packages\\pandas_datareader\\compat\\__init__.py:7: FutureWarning: pandas.util.testing is deprecated. Use the functions in the public API at pandas.testing instead.\n",
      "  from pandas.util.testing import assert_frame_equal\n"
     ]
    }
   ],
   "source": [
    "import pandas_datareader as pdr\n",
    "import pandas as pd\n",
    "import math\n",
    "%matplotlib inline\n",
    "import warnings\n",
    "warnings.filterwarnings(\"ignore\")\n",
    "key=\"a429af8eb4c2814846898988e2274003d013fba9\""
   ]
  },
  {
   "cell_type": "markdown",
   "metadata": {},
   "source": [
    "#### Getting Apple Stock Price Data "
   ]
  },
  {
   "cell_type": "code",
   "execution_count": 2,
   "metadata": {},
   "outputs": [],
   "source": [
    "df = pdr.get_data_tiingo('AAPL', api_key=key)"
   ]
  },
  {
   "cell_type": "markdown",
   "metadata": {},
   "source": [
    "#### Saving the Stock Price Data as csv file"
   ]
  },
  {
   "cell_type": "code",
   "execution_count": 3,
   "metadata": {},
   "outputs": [],
   "source": [
    "df.to_csv('C:/Users/shwer/data/AAPL.csv')"
   ]
  },
  {
   "cell_type": "markdown",
   "metadata": {},
   "source": [
    "##### Reading the csv file"
   ]
  },
  {
   "cell_type": "code",
   "execution_count": 4,
   "metadata": {},
   "outputs": [
    {
     "data": {
      "text/html": [
       "<div>\n",
       "<style scoped>\n",
       "    .dataframe tbody tr th:only-of-type {\n",
       "        vertical-align: middle;\n",
       "    }\n",
       "\n",
       "    .dataframe tbody tr th {\n",
       "        vertical-align: top;\n",
       "    }\n",
       "\n",
       "    .dataframe thead th {\n",
       "        text-align: right;\n",
       "    }\n",
       "</style>\n",
       "<table border=\"1\" class=\"dataframe\">\n",
       "  <thead>\n",
       "    <tr style=\"text-align: right;\">\n",
       "      <th></th>\n",
       "      <th>symbol</th>\n",
       "      <th>date</th>\n",
       "      <th>close</th>\n",
       "      <th>high</th>\n",
       "      <th>low</th>\n",
       "      <th>open</th>\n",
       "      <th>volume</th>\n",
       "      <th>adjClose</th>\n",
       "      <th>adjHigh</th>\n",
       "      <th>adjLow</th>\n",
       "      <th>adjOpen</th>\n",
       "      <th>adjVolume</th>\n",
       "      <th>divCash</th>\n",
       "      <th>splitFactor</th>\n",
       "    </tr>\n",
       "  </thead>\n",
       "  <tbody>\n",
       "    <tr>\n",
       "      <th>0</th>\n",
       "      <td>AAPL</td>\n",
       "      <td>2015-06-11 00:00:00+00:00</td>\n",
       "      <td>128.59</td>\n",
       "      <td>130.18</td>\n",
       "      <td>128.475</td>\n",
       "      <td>129.180</td>\n",
       "      <td>35390887</td>\n",
       "      <td>118.498694</td>\n",
       "      <td>119.963916</td>\n",
       "      <td>118.392719</td>\n",
       "      <td>119.042393</td>\n",
       "      <td>35390887</td>\n",
       "      <td>0.0</td>\n",
       "      <td>1.0</td>\n",
       "    </tr>\n",
       "    <tr>\n",
       "      <th>1</th>\n",
       "      <td>AAPL</td>\n",
       "      <td>2015-06-12 00:00:00+00:00</td>\n",
       "      <td>127.17</td>\n",
       "      <td>128.33</td>\n",
       "      <td>127.110</td>\n",
       "      <td>128.185</td>\n",
       "      <td>36886246</td>\n",
       "      <td>117.190131</td>\n",
       "      <td>118.259098</td>\n",
       "      <td>117.134840</td>\n",
       "      <td>118.125477</td>\n",
       "      <td>36886246</td>\n",
       "      <td>0.0</td>\n",
       "      <td>1.0</td>\n",
       "    </tr>\n",
       "    <tr>\n",
       "      <th>2</th>\n",
       "      <td>AAPL</td>\n",
       "      <td>2015-06-15 00:00:00+00:00</td>\n",
       "      <td>126.92</td>\n",
       "      <td>127.24</td>\n",
       "      <td>125.710</td>\n",
       "      <td>126.100</td>\n",
       "      <td>43988946</td>\n",
       "      <td>116.959750</td>\n",
       "      <td>117.254638</td>\n",
       "      <td>115.844707</td>\n",
       "      <td>116.204101</td>\n",
       "      <td>43988946</td>\n",
       "      <td>0.0</td>\n",
       "      <td>1.0</td>\n",
       "    </tr>\n",
       "    <tr>\n",
       "      <th>3</th>\n",
       "      <td>AAPL</td>\n",
       "      <td>2015-06-16 00:00:00+00:00</td>\n",
       "      <td>127.60</td>\n",
       "      <td>127.85</td>\n",
       "      <td>126.370</td>\n",
       "      <td>127.030</td>\n",
       "      <td>31494131</td>\n",
       "      <td>117.586386</td>\n",
       "      <td>117.816767</td>\n",
       "      <td>116.452912</td>\n",
       "      <td>117.061118</td>\n",
       "      <td>31494131</td>\n",
       "      <td>0.0</td>\n",
       "      <td>1.0</td>\n",
       "    </tr>\n",
       "    <tr>\n",
       "      <th>4</th>\n",
       "      <td>AAPL</td>\n",
       "      <td>2015-06-17 00:00:00+00:00</td>\n",
       "      <td>127.30</td>\n",
       "      <td>127.88</td>\n",
       "      <td>126.740</td>\n",
       "      <td>127.720</td>\n",
       "      <td>32918071</td>\n",
       "      <td>117.309929</td>\n",
       "      <td>117.844413</td>\n",
       "      <td>116.793876</td>\n",
       "      <td>117.696969</td>\n",
       "      <td>32918071</td>\n",
       "      <td>0.0</td>\n",
       "      <td>1.0</td>\n",
       "    </tr>\n",
       "  </tbody>\n",
       "</table>\n",
       "</div>"
      ],
      "text/plain": [
       "  symbol                       date   close    high      low     open  \\\n",
       "0   AAPL  2015-06-11 00:00:00+00:00  128.59  130.18  128.475  129.180   \n",
       "1   AAPL  2015-06-12 00:00:00+00:00  127.17  128.33  127.110  128.185   \n",
       "2   AAPL  2015-06-15 00:00:00+00:00  126.92  127.24  125.710  126.100   \n",
       "3   AAPL  2015-06-16 00:00:00+00:00  127.60  127.85  126.370  127.030   \n",
       "4   AAPL  2015-06-17 00:00:00+00:00  127.30  127.88  126.740  127.720   \n",
       "\n",
       "     volume    adjClose     adjHigh      adjLow     adjOpen  adjVolume  \\\n",
       "0  35390887  118.498694  119.963916  118.392719  119.042393   35390887   \n",
       "1  36886246  117.190131  118.259098  117.134840  118.125477   36886246   \n",
       "2  43988946  116.959750  117.254638  115.844707  116.204101   43988946   \n",
       "3  31494131  117.586386  117.816767  116.452912  117.061118   31494131   \n",
       "4  32918071  117.309929  117.844413  116.793876  117.696969   32918071   \n",
       "\n",
       "   divCash  splitFactor  \n",
       "0      0.0          1.0  \n",
       "1      0.0          1.0  \n",
       "2      0.0          1.0  \n",
       "3      0.0          1.0  \n",
       "4      0.0          1.0  "
      ]
     },
     "execution_count": 4,
     "metadata": {},
     "output_type": "execute_result"
    }
   ],
   "source": [
    "df=pd.read_csv('C:/Users/shwer/data/AAPL.csv')\n",
    "df.head()"
   ]
  },
  {
   "cell_type": "code",
   "execution_count": 5,
   "metadata": {},
   "outputs": [
    {
     "data": {
      "text/plain": [
       "(1257, 14)"
      ]
     },
     "execution_count": 5,
     "metadata": {},
     "output_type": "execute_result"
    }
   ],
   "source": [
    "df.shape"
   ]
  },
  {
   "cell_type": "markdown",
   "metadata": {},
   "source": [
    "##### Getting 2d array of all rows and only 1 column which is close"
   ]
  },
  {
   "cell_type": "code",
   "execution_count": 6,
   "metadata": {},
   "outputs": [],
   "source": [
    "data_train=df.iloc[:,2:3]"
   ]
  },
  {
   "cell_type": "markdown",
   "metadata": {},
   "source": [
    "##### Getting to know dimension which is number of rows and columns"
   ]
  },
  {
   "cell_type": "code",
   "execution_count": 7,
   "metadata": {},
   "outputs": [
    {
     "data": {
      "text/plain": [
       "(1257, 1)"
      ]
     },
     "execution_count": 7,
     "metadata": {},
     "output_type": "execute_result"
    }
   ],
   "source": [
    "data_train.shape"
   ]
  },
  {
   "cell_type": "markdown",
   "metadata": {},
   "source": [
    "##### Getting 70 % of stock price data and saving in training_data_len which is of integer datatype"
   ]
  },
  {
   "cell_type": "code",
   "execution_count": 8,
   "metadata": {},
   "outputs": [],
   "source": [
    "training_data_len = math.ceil(len(data_train) *0.7) "
   ]
  },
  {
   "cell_type": "markdown",
   "metadata": {},
   "source": [
    "#### LSTM is sensitive to scale of data. So apply MinMax Scaler which changes all stock price values in a specified range here it is from 0 to 1 so, that all values will be ranging from 0 to 1"
   ]
  },
  {
   "cell_type": "code",
   "execution_count": 9,
   "metadata": {},
   "outputs": [
    {
     "data": {
      "text/plain": [
       "(1257, 1)"
      ]
     },
     "execution_count": 9,
     "metadata": {},
     "output_type": "execute_result"
    }
   ],
   "source": [
    "from sklearn.preprocessing import MinMaxScaler\n",
    "sc=MinMaxScaler(feature_range=(0,1)) # All values will be range from 0 to 1\n",
    "data_scaled=sc.fit_transform(data_train)\n",
    "data_scaled.shape"
   ]
  },
  {
   "cell_type": "code",
   "execution_count": 10,
   "metadata": {},
   "outputs": [
    {
     "data": {
      "text/plain": [
       "array([[0.15732971],\n",
       "       [0.15148898],\n",
       "       [0.15046068],\n",
       "       ...,\n",
       "       [0.95417901],\n",
       "       [0.99193814],\n",
       "       [1.        ]])"
      ]
     },
     "execution_count": 10,
     "metadata": {},
     "output_type": "execute_result"
    }
   ],
   "source": [
    "data_scaled"
   ]
  },
  {
   "cell_type": "markdown",
   "metadata": {},
   "source": [
    "#### Create the scaled training data"
   ]
  },
  {
   "cell_type": "code",
   "execution_count": 11,
   "metadata": {},
   "outputs": [],
   "source": [
    "train_data= data_scaled[0: training_data_len,:]"
   ]
  },
  {
   "cell_type": "markdown",
   "metadata": {},
   "source": [
    "#### Create a function where if timestep is 60 then first 60 values is going into X_train and 61th value is in y_train do it till the length of train_data and convert X_train and y_train into numpy array"
   ]
  },
  {
   "cell_type": "code",
   "execution_count": 12,
   "metadata": {},
   "outputs": [],
   "source": [
    "import numpy as np\n",
    "# convert an array of values into a dataset matrix\n",
    "def create_dataset(dataset, time_step=1):\n",
    "    X_train = []\n",
    "    y_train= []\n",
    "    for i in range(time_step,len(train_data)):\n",
    "        X_train.append(train_data[i-time_step:i,0])\n",
    "        y_train.append(train_data[i , 0])\n",
    "    return np.array(X_train), np.array(y_train) # converting to numpy array so that it can be used for training LSTM model."
   ]
  },
  {
   "cell_type": "code",
   "execution_count": 13,
   "metadata": {},
   "outputs": [],
   "source": [
    "# calling the function create_dataset\n",
    "time_step = 60\n",
    "X_train, y_train = create_dataset(train_data, time_step)"
   ]
  },
  {
   "cell_type": "markdown",
   "metadata": {},
   "source": [
    "###### Getting the dimensions of X_train which has 820 values and 60 columns because timestep was 60 "
   ]
  },
  {
   "cell_type": "code",
   "execution_count": 14,
   "metadata": {},
   "outputs": [
    {
     "data": {
      "text/plain": [
       "(820, 60)"
      ]
     },
     "execution_count": 14,
     "metadata": {},
     "output_type": "execute_result"
    }
   ],
   "source": [
    "X_train.shape"
   ]
  },
  {
   "cell_type": "markdown",
   "metadata": {},
   "source": [
    "###### Reshaping adding new dimension which is input to LSTM 3 dimension in total which are [samples, time steps, features]"
   ]
  },
  {
   "cell_type": "code",
   "execution_count": 15,
   "metadata": {},
   "outputs": [],
   "source": [
    "X_train =X_train.reshape(X_train.shape[0],X_train.shape[1] , 1)"
   ]
  },
  {
   "cell_type": "markdown",
   "metadata": {},
   "source": [
    "#### <br> Now it has been converted to 3 dimensions where dimension is number of features to predict here it is only 1 because we have to predict for only close column</br>"
   ]
  },
  {
   "cell_type": "code",
   "execution_count": 16,
   "metadata": {},
   "outputs": [
    {
     "data": {
      "text/plain": [
       "(820, 60, 1)"
      ]
     },
     "execution_count": 16,
     "metadata": {},
     "output_type": "execute_result"
    }
   ],
   "source": [
    "X_train.shape"
   ]
  },
  {
   "cell_type": "markdown",
   "metadata": {},
   "source": [
    "### Build LSTM network model"
   ]
  },
  {
   "cell_type": "code",
   "execution_count": 17,
   "metadata": {},
   "outputs": [
    {
     "name": "stderr",
     "output_type": "stream",
     "text": [
      "Using TensorFlow backend.\n"
     ]
    }
   ],
   "source": [
    "# importing libraries\n",
    "from keras.models import Sequential\n",
    "from keras.layers import Dense\n",
    "from keras.layers import LSTM"
   ]
  },
  {
   "cell_type": "markdown",
   "metadata": {},
   "source": [
    "##### <br> units =70 is number of neurons in layer.</br>\n",
    "##### <br> return_sequences=True because adding a new LSTM layer ahead i.e. stacked layer </br>\n",
    "##### <br> input_shape where X_train.shape[1] which will give timesteps </br>"
   ]
  },
  {
   "cell_type": "code",
   "execution_count": 18,
   "metadata": {},
   "outputs": [],
   "source": [
    "# Initialize RNN\n",
    "model=Sequential()\n",
    "# Adding first LSTM layer\n",
    "model.add(LSTM(units=70, return_sequences=True,input_shape=(X_train.shape[1],1))) "
   ]
  },
  {
   "cell_type": "markdown",
   "metadata": {},
   "source": [
    "##### Adding second LSTM layer"
   ]
  },
  {
   "cell_type": "code",
   "execution_count": 19,
   "metadata": {},
   "outputs": [],
   "source": [
    "model.add(LSTM(units=70,return_sequences=True)) "
   ]
  },
  {
   "cell_type": "markdown",
   "metadata": {},
   "source": [
    "#### Adding third LSTM layer"
   ]
  },
  {
   "cell_type": "code",
   "execution_count": 20,
   "metadata": {},
   "outputs": [],
   "source": [
    "model.add(LSTM(units=70,return_sequences=True)) "
   ]
  },
  {
   "cell_type": "markdown",
   "metadata": {},
   "source": [
    "#### <br> Adding fourth LSTM layer  and no return sequence because this is the last LSTM layer </br>"
   ]
  },
  {
   "cell_type": "code",
   "execution_count": 21,
   "metadata": {},
   "outputs": [],
   "source": [
    "model.add(LSTM(units=70)) "
   ]
  },
  {
   "cell_type": "markdown",
   "metadata": {},
   "source": [
    "###### Adding Output Layer and units=1 because Column Close to predict"
   ]
  },
  {
   "cell_type": "code",
   "execution_count": 22,
   "metadata": {},
   "outputs": [],
   "source": [
    "model.add(Dense(units=1)) "
   ]
  },
  {
   "cell_type": "markdown",
   "metadata": {},
   "source": [
    "##### Compiling model by adam as optimzer and meansquareerror(MSE) as loss function"
   ]
  },
  {
   "cell_type": "code",
   "execution_count": 23,
   "metadata": {},
   "outputs": [],
   "source": [
    "model.compile(optimizer='adam', loss='mean_squared_error')"
   ]
  },
  {
   "cell_type": "markdown",
   "metadata": {},
   "source": [
    "###### <br>Training the model</br>\n",
    "<br> Batch size is total number of training samples present in a single batch </br>\n",
    "<br>epoch is number of iterations when an entire dataset is passed forward and backward through neural network </br>"
   ]
  },
  {
   "cell_type": "code",
   "execution_count": 24,
   "metadata": {},
   "outputs": [
    {
     "name": "stdout",
     "output_type": "stream",
     "text": [
      "Epoch 1/100\n",
      "820/820 [==============================] - 4s 4ms/step - loss: 0.0123\n",
      "Epoch 2/100\n",
      "820/820 [==============================] - 3s 3ms/step - loss: 0.0014\n",
      "Epoch 3/100\n",
      "820/820 [==============================] - 3s 3ms/step - loss: 0.0011\n",
      "Epoch 4/100\n",
      "820/820 [==============================] - 3s 3ms/step - loss: 0.0012\n",
      "Epoch 5/100\n",
      "820/820 [==============================] - 2s 3ms/step - loss: 0.0010\n",
      "Epoch 6/100\n",
      "820/820 [==============================] - 2s 3ms/step - loss: 9.5067e-04\n",
      "Epoch 7/100\n",
      "820/820 [==============================] - 2s 3ms/step - loss: 9.5823e-04\n",
      "Epoch 8/100\n",
      "820/820 [==============================] - 2s 3ms/step - loss: 8.1053e-04\n",
      "Epoch 9/100\n",
      "820/820 [==============================] - 2s 3ms/step - loss: 9.7013e-04\n",
      "Epoch 10/100\n",
      "820/820 [==============================] - 2s 3ms/step - loss: 7.6295e-04\n",
      "Epoch 11/100\n",
      "820/820 [==============================] - 2s 3ms/step - loss: 8.3651e-04\n",
      "Epoch 12/100\n",
      "820/820 [==============================] - 2s 3ms/step - loss: 7.7729e-04\n",
      "Epoch 13/100\n",
      "820/820 [==============================] - 2s 3ms/step - loss: 8.0219e-04\n",
      "Epoch 14/100\n",
      "820/820 [==============================] - 2s 3ms/step - loss: 6.6890e-04\n",
      "Epoch 15/100\n",
      "820/820 [==============================] - 2s 3ms/step - loss: 5.7305e-04\n",
      "Epoch 16/100\n",
      "820/820 [==============================] - 2s 3ms/step - loss: 5.4514e-04\n",
      "Epoch 17/100\n",
      "820/820 [==============================] - 2s 3ms/step - loss: 5.4525e-04\n",
      "Epoch 18/100\n",
      "820/820 [==============================] - 2s 3ms/step - loss: 5.3817e-04\n",
      "Epoch 19/100\n",
      "820/820 [==============================] - 2s 3ms/step - loss: 5.9364e-04\n",
      "Epoch 20/100\n",
      "820/820 [==============================] - 2s 3ms/step - loss: 5.1766e-04\n",
      "Epoch 21/100\n",
      "820/820 [==============================] - 3s 3ms/step - loss: 5.0245e-04\n",
      "Epoch 22/100\n",
      "820/820 [==============================] - 3s 4ms/step - loss: 4.7795e-04\n",
      "Epoch 23/100\n",
      "820/820 [==============================] - 3s 3ms/step - loss: 4.9263e-04\n",
      "Epoch 24/100\n",
      "820/820 [==============================] - 3s 3ms/step - loss: 4.7188e-04\n",
      "Epoch 25/100\n",
      "820/820 [==============================] - 3s 3ms/step - loss: 4.4915e-04\n",
      "Epoch 26/100\n",
      "820/820 [==============================] - 3s 3ms/step - loss: 5.3301e-04\n",
      "Epoch 27/100\n",
      "820/820 [==============================] - 3s 3ms/step - loss: 5.4001e-04\n",
      "Epoch 28/100\n",
      "820/820 [==============================] - 3s 3ms/step - loss: 4.1733e-04\n",
      "Epoch 29/100\n",
      "820/820 [==============================] - 3s 3ms/step - loss: 4.2542e-04\n",
      "Epoch 30/100\n",
      "820/820 [==============================] - 3s 3ms/step - loss: 4.4190e-04\n",
      "Epoch 31/100\n",
      "820/820 [==============================] - 3s 3ms/step - loss: 5.1209e-04\n",
      "Epoch 32/100\n",
      "820/820 [==============================] - 3s 3ms/step - loss: 3.7700e-04\n",
      "Epoch 33/100\n",
      "820/820 [==============================] - 3s 3ms/step - loss: 4.0014e-04\n",
      "Epoch 34/100\n",
      "820/820 [==============================] - 3s 3ms/step - loss: 5.2203e-04\n",
      "Epoch 35/100\n",
      "820/820 [==============================] - 2s 3ms/step - loss: 3.9496e-04\n",
      "Epoch 36/100\n",
      "820/820 [==============================] - 3s 3ms/step - loss: 3.4589e-04\n",
      "Epoch 37/100\n",
      "820/820 [==============================] - 3s 3ms/step - loss: 3.2498e-04\n",
      "Epoch 38/100\n",
      "820/820 [==============================] - 3s 3ms/step - loss: 3.2087e-04\n",
      "Epoch 39/100\n",
      "820/820 [==============================] - 3s 3ms/step - loss: 3.1702e-04\n",
      "Epoch 40/100\n",
      "820/820 [==============================] - 2s 3ms/step - loss: 2.9744e-04\n",
      "Epoch 41/100\n",
      "820/820 [==============================] - 3s 3ms/step - loss: 2.8823e-04\n",
      "Epoch 42/100\n",
      "820/820 [==============================] - 3s 3ms/step - loss: 2.9982e-04\n",
      "Epoch 43/100\n",
      "820/820 [==============================] - 3s 3ms/step - loss: 3.2239e-04\n",
      "Epoch 44/100\n",
      "820/820 [==============================] - 3s 3ms/step - loss: 2.6296e-04\n",
      "Epoch 45/100\n",
      "820/820 [==============================] - 3s 3ms/step - loss: 2.5693e-04\n",
      "Epoch 46/100\n",
      "820/820 [==============================] - 3s 3ms/step - loss: 3.0184e-04\n",
      "Epoch 47/100\n",
      "820/820 [==============================] - 3s 3ms/step - loss: 2.9678e-04A: 0s - loss: 3.0036e-0\n",
      "Epoch 48/100\n",
      "820/820 [==============================] - 3s 3ms/step - loss: 2.5694e-04\n",
      "Epoch 49/100\n",
      "820/820 [==============================] - 3s 3ms/step - loss: 2.3152e-04A:\n",
      "Epoch 50/100\n",
      "820/820 [==============================] - 3s 3ms/step - loss: 2.2256e-04\n",
      "Epoch 51/100\n",
      "820/820 [==============================] - 2s 3ms/step - loss: 2.2283e-04\n",
      "Epoch 52/100\n",
      "820/820 [==============================] - 2s 3ms/step - loss: 2.0456e-04\n",
      "Epoch 53/100\n",
      "820/820 [==============================] - 3s 3ms/step - loss: 2.4557e-04\n",
      "Epoch 54/100\n",
      "820/820 [==============================] - 3s 3ms/step - loss: 1.9946e-04\n",
      "Epoch 55/100\n",
      "820/820 [==============================] - 3s 3ms/step - loss: 2.1168e-04\n",
      "Epoch 56/100\n",
      "820/820 [==============================] - 3s 3ms/step - loss: 1.9522e-04\n",
      "Epoch 57/100\n",
      "820/820 [==============================] - 3s 3ms/step - loss: 1.9559e-04\n",
      "Epoch 58/100\n",
      "820/820 [==============================] - 3s 3ms/step - loss: 2.1915e-04\n",
      "Epoch 59/100\n",
      "820/820 [==============================] - 3s 3ms/step - loss: 2.4968e-04\n",
      "Epoch 60/100\n",
      "820/820 [==============================] - 3s 3ms/step - loss: 1.9193e-04\n",
      "Epoch 61/100\n",
      "820/820 [==============================] - 3s 3ms/step - loss: 2.2016e-04\n",
      "Epoch 62/100\n",
      "820/820 [==============================] - 3s 3ms/step - loss: 2.1885e-04\n",
      "Epoch 63/100\n",
      "820/820 [==============================] - 3s 3ms/step - loss: 1.7542e-04\n",
      "Epoch 64/100\n",
      "820/820 [==============================] - 3s 3ms/step - loss: 2.2328e-04\n",
      "Epoch 65/100\n",
      "820/820 [==============================] - 3s 3ms/step - loss: 2.2797e-04\n",
      "Epoch 66/100\n",
      "820/820 [==============================] - 3s 3ms/step - loss: 1.7370e-04\n",
      "Epoch 67/100\n",
      "820/820 [==============================] - 3s 3ms/step - loss: 1.9211e-04\n",
      "Epoch 68/100\n",
      "820/820 [==============================] - 3s 3ms/step - loss: 2.7156e-04\n",
      "Epoch 69/100\n",
      "820/820 [==============================] - 3s 3ms/step - loss: 2.4624e-04\n",
      "Epoch 70/100\n",
      "820/820 [==============================] - 3s 3ms/step - loss: 1.6510e-04\n",
      "Epoch 71/100\n",
      "820/820 [==============================] - 3s 3ms/step - loss: 1.9706e-04\n",
      "Epoch 72/100\n",
      "820/820 [==============================] - 2s 3ms/step - loss: 1.7686e-04\n",
      "Epoch 73/100\n",
      "820/820 [==============================] - 3s 3ms/step - loss: 2.0144e-04\n",
      "Epoch 74/100\n",
      "820/820 [==============================] - 3s 3ms/step - loss: 1.4896e-04\n",
      "Epoch 75/100\n",
      "820/820 [==============================] - 2s 3ms/step - loss: 1.3634e-04\n",
      "Epoch 76/100\n",
      "820/820 [==============================] - 3s 3ms/step - loss: 1.5085e-04\n",
      "Epoch 77/100\n",
      "820/820 [==============================] - 3s 3ms/step - loss: 1.5611e-04\n",
      "Epoch 78/100\n",
      "820/820 [==============================] - 3s 3ms/step - loss: 2.1440e-04\n",
      "Epoch 79/100\n",
      "820/820 [==============================] - 3s 3ms/step - loss: 1.6306e-04\n",
      "Epoch 80/100\n",
      "820/820 [==============================] - 3s 3ms/step - loss: 1.3779e-04\n",
      "Epoch 81/100\n",
      "820/820 [==============================] - 2s 3ms/step - loss: 1.3587e-04\n",
      "Epoch 82/100\n",
      "820/820 [==============================] - 3s 3ms/step - loss: 1.4310e-04\n",
      "Epoch 83/100\n",
      "820/820 [==============================] - 3s 3ms/step - loss: 1.3469e-04\n",
      "Epoch 84/100\n",
      "820/820 [==============================] - 3s 3ms/step - loss: 1.2407e-04\n",
      "Epoch 85/100\n",
      "820/820 [==============================] - 3s 3ms/step - loss: 1.3385e-04\n",
      "Epoch 86/100\n",
      "820/820 [==============================] - 2s 3ms/step - loss: 1.3090e-04\n",
      "Epoch 87/100\n",
      "820/820 [==============================] - 3s 3ms/step - loss: 1.1522e-04\n",
      "Epoch 88/100\n",
      "820/820 [==============================] - 2s 3ms/step - loss: 1.1410e-04\n",
      "Epoch 89/100\n",
      "820/820 [==============================] - 3s 3ms/step - loss: 1.3342e-04\n",
      "Epoch 90/100\n",
      "820/820 [==============================] - 3s 3ms/step - loss: 1.6048e-04\n",
      "Epoch 91/100\n",
      "820/820 [==============================] - 3s 3ms/step - loss: 1.2667e-04\n",
      "Epoch 92/100\n",
      "820/820 [==============================] - 3s 3ms/step - loss: 1.1265e-04\n",
      "Epoch 93/100\n",
      "820/820 [==============================] - 3s 3ms/step - loss: 1.3987e-04\n",
      "Epoch 94/100\n",
      "820/820 [==============================] - 3s 3ms/step - loss: 1.1975e-04\n",
      "Epoch 95/100\n",
      "820/820 [==============================] - 3s 3ms/step - loss: 1.4373e-04\n",
      "Epoch 96/100\n",
      "820/820 [==============================] - 3s 3ms/step - loss: 1.0689e-04\n",
      "Epoch 97/100\n",
      "820/820 [==============================] - 2s 3ms/step - loss: 1.1765e-04\n",
      "Epoch 98/100\n",
      "820/820 [==============================] - 3s 3ms/step - loss: 1.8759e-04\n",
      "Epoch 99/100\n",
      "820/820 [==============================] - 3s 3ms/step - loss: 1.6215e-04\n",
      "Epoch 100/100\n",
      "820/820 [==============================] - 3s 3ms/step - loss: 1.0958e-04\n"
     ]
    },
    {
     "data": {
      "text/plain": [
       "<keras.callbacks.callbacks.History at 0x2302edc22c8>"
      ]
     },
     "execution_count": 24,
     "metadata": {},
     "output_type": "execute_result"
    }
   ],
   "source": [
    "model.fit(X_train,y_train,epochs=100,batch_size=32)"
   ]
  },
  {
   "cell_type": "markdown",
   "metadata": {},
   "source": [
    "#### Create a test data as we are predicting a stock price value for a specific day by looking into past 60 days values so test_data will start from training_data_len - 60 and till end of original stock price data"
   ]
  },
  {
   "cell_type": "code",
   "execution_count": 25,
   "metadata": {},
   "outputs": [
    {
     "data": {
      "text/plain": [
       "(437, 1)"
      ]
     },
     "execution_count": 25,
     "metadata": {},
     "output_type": "execute_result"
    }
   ],
   "source": [
    "test_data=data_scaled[training_data_len-60: , :] \n",
    "test_data.shape"
   ]
  },
  {
   "cell_type": "markdown",
   "metadata": {},
   "source": [
    "###### Getting numpy representation of dataframe"
   ]
  },
  {
   "cell_type": "code",
   "execution_count": 26,
   "metadata": {},
   "outputs": [],
   "source": [
    "data_train1=data_train.values"
   ]
  },
  {
   "cell_type": "markdown",
   "metadata": {},
   "source": [
    "##### Create X_test and y_test dataset"
   ]
  },
  {
   "cell_type": "code",
   "execution_count": 27,
   "metadata": {},
   "outputs": [],
   "source": [
    "X_test=[]\n",
    "y_test=data_train1[training_data_len: , :] # getting all of rows from index 881 till the end\n",
    "for i in range(60,len(test_data)):\n",
    "    X_test.append(test_data[i-60:i,0]) # getting all past 60 values for the first test_data stock price value"
   ]
  },
  {
   "cell_type": "markdown",
   "metadata": {},
   "source": [
    "#### Converting independent test data set 'X_test' to numpy array so it can be used for testing LSTM model"
   ]
  },
  {
   "cell_type": "code",
   "execution_count": 28,
   "metadata": {},
   "outputs": [],
   "source": [
    "X_test=np.array(X_test)"
   ]
  },
  {
   "cell_type": "markdown",
   "metadata": {},
   "source": [
    "#### Reshaping the data into 3 dimesion for LSTM input"
   ]
  },
  {
   "cell_type": "code",
   "execution_count": 29,
   "metadata": {},
   "outputs": [],
   "source": [
    "X_test=np.reshape(X_test,(X_test.shape[0],X_test.shape[1],1))"
   ]
  },
  {
   "cell_type": "markdown",
   "metadata": {},
   "source": [
    "###### Getting predicted values from model and Remove scaling and bring it into original values"
   ]
  },
  {
   "cell_type": "code",
   "execution_count": 30,
   "metadata": {},
   "outputs": [],
   "source": [
    "predictions=model.predict(X_test)\n",
    "predictions=sc.inverse_transform(predictions)"
   ]
  },
  {
   "cell_type": "markdown",
   "metadata": {},
   "source": [
    "###### Converting float values to integer "
   ]
  },
  {
   "cell_type": "code",
   "execution_count": 31,
   "metadata": {},
   "outputs": [
    {
     "data": {
      "text/plain": [
       "array([[174],\n",
       "       [168],\n",
       "       [168],\n",
       "       [168],\n",
       "       [169],\n",
       "       [170],\n",
       "       [167],\n",
       "       [164],\n",
       "       [166],\n",
       "       [162],\n",
       "       [158],\n",
       "       [153],\n",
       "       [149],\n",
       "       [154],\n",
       "       [157],\n",
       "       [158],\n",
       "       [159],\n",
       "       [159],\n",
       "       [148],\n",
       "       [147],\n",
       "       [148],\n",
       "       [150],\n",
       "       [153],\n",
       "       [155],\n",
       "       [154],\n",
       "       [152],\n",
       "       [153],\n",
       "       [155],\n",
       "       [156],\n",
       "       [157],\n",
       "       [155],\n",
       "       [154],\n",
       "       [153],\n",
       "       [156],\n",
       "       [157],\n",
       "       [156],\n",
       "       [162],\n",
       "       [166],\n",
       "       [167],\n",
       "       [170],\n",
       "       [173],\n",
       "       [174],\n",
       "       [171],\n",
       "       [170],\n",
       "       [169],\n",
       "       [170],\n",
       "       [170],\n",
       "       [171],\n",
       "       [170],\n",
       "       [171],\n",
       "       [172],\n",
       "       [171],\n",
       "       [172],\n",
       "       [174],\n",
       "       [174],\n",
       "       [174],\n",
       "       [173],\n",
       "       [174],\n",
       "       [175],\n",
       "       [175],\n",
       "       [174],\n",
       "       [172],\n",
       "       [172],\n",
       "       [177],\n",
       "       [180],\n",
       "       [181],\n",
       "       [183],\n",
       "       [185],\n",
       "       [187],\n",
       "       [186],\n",
       "       [187],\n",
       "       [194],\n",
       "       [191],\n",
       "       [188],\n",
       "       [187],\n",
       "       [188],\n",
       "       [189],\n",
       "       [190],\n",
       "       [191],\n",
       "       [194],\n",
       "       [195],\n",
       "       [195],\n",
       "       [197],\n",
       "       [200],\n",
       "       [199],\n",
       "       [200],\n",
       "       [199],\n",
       "       [199],\n",
       "       [199],\n",
       "       [199],\n",
       "       [203],\n",
       "       [204],\n",
       "       [204],\n",
       "       [207],\n",
       "       [207],\n",
       "       [205],\n",
       "       [204],\n",
       "       [205],\n",
       "       [201],\n",
       "       [211],\n",
       "       [208],\n",
       "       [212],\n",
       "       [208],\n",
       "       [203],\n",
       "       [204],\n",
       "       [201],\n",
       "       [198],\n",
       "       [187],\n",
       "       [190],\n",
       "       [191],\n",
       "       [190],\n",
       "       [189],\n",
       "       [184],\n",
       "       [186],\n",
       "       [183],\n",
       "       [180],\n",
       "       [179],\n",
       "       [178],\n",
       "       [177],\n",
       "       [178],\n",
       "       [175],\n",
       "       [173],\n",
       "       [178],\n",
       "       [182],\n",
       "       [184],\n",
       "       [189],\n",
       "       [191],\n",
       "       [194],\n",
       "       [193],\n",
       "       [193],\n",
       "       [192],\n",
       "       [193],\n",
       "       [198],\n",
       "       [198],\n",
       "       [199],\n",
       "       [199],\n",
       "       [199],\n",
       "       [196],\n",
       "       [200],\n",
       "       [200],\n",
       "       [198],\n",
       "       [202],\n",
       "       [203],\n",
       "       [205],\n",
       "       [204],\n",
       "       [200],\n",
       "       [202],\n",
       "       [204],\n",
       "       [202],\n",
       "       [204],\n",
       "       [205],\n",
       "       [204],\n",
       "       [203],\n",
       "       [206],\n",
       "       [202],\n",
       "       [207],\n",
       "       [208],\n",
       "       [208],\n",
       "       [207],\n",
       "       [208],\n",
       "       [210],\n",
       "       [208],\n",
       "       [213],\n",
       "       [208],\n",
       "       [204],\n",
       "       [194],\n",
       "       [198],\n",
       "       [200],\n",
       "       [204],\n",
       "       [201],\n",
       "       [200],\n",
       "       [209],\n",
       "       [202],\n",
       "       [202],\n",
       "       [206],\n",
       "       [209],\n",
       "       [209],\n",
       "       [212],\n",
       "       [211],\n",
       "       [202],\n",
       "       [207],\n",
       "       [204],\n",
       "       [206],\n",
       "       [209],\n",
       "       [208],\n",
       "       [205],\n",
       "       [209],\n",
       "       [213],\n",
       "       [213],\n",
       "       [214],\n",
       "       [216],\n",
       "       [223],\n",
       "       [222],\n",
       "       [218],\n",
       "       [220],\n",
       "       [221],\n",
       "       [223],\n",
       "       [221],\n",
       "       [218],\n",
       "       [220],\n",
       "       [218],\n",
       "       [222],\n",
       "       [220],\n",
       "       [219],\n",
       "       [225],\n",
       "       [224],\n",
       "       [218],\n",
       "       [222],\n",
       "       [227],\n",
       "       [226],\n",
       "       [224],\n",
       "       [227],\n",
       "       [230],\n",
       "       [236],\n",
       "       [234],\n",
       "       [235],\n",
       "       [234],\n",
       "       [235],\n",
       "       [236],\n",
       "       [241],\n",
       "       [239],\n",
       "       [244],\n",
       "       [242],\n",
       "       [247],\n",
       "       [248],\n",
       "       [241],\n",
       "       [245],\n",
       "       [250],\n",
       "       [256],\n",
       "       [255],\n",
       "       [255],\n",
       "       [256],\n",
       "       [259],\n",
       "       [259],\n",
       "       [261],\n",
       "       [260],\n",
       "       [264],\n",
       "       [260],\n",
       "       [266],\n",
       "       [265],\n",
       "       [265],\n",
       "       [261],\n",
       "       [262],\n",
       "       [261],\n",
       "       [267],\n",
       "       [261],\n",
       "       [269],\n",
       "       [264],\n",
       "       [263],\n",
       "       [258],\n",
       "       [263],\n",
       "       [265],\n",
       "       [270],\n",
       "       [262],\n",
       "       [269],\n",
       "       [268],\n",
       "       [269],\n",
       "       [273],\n",
       "       [277],\n",
       "       [275],\n",
       "       [276],\n",
       "       [277],\n",
       "       [276],\n",
       "       [282],\n",
       "       [279],\n",
       "       [288],\n",
       "       [283],\n",
       "       [289],\n",
       "       [289],\n",
       "       [297],\n",
       "       [288],\n",
       "       [298],\n",
       "       [291],\n",
       "       [302],\n",
       "       [303],\n",
       "       [303],\n",
       "       [312],\n",
       "       [301],\n",
       "       [308],\n",
       "       [310],\n",
       "       [313],\n",
       "       [308],\n",
       "       [314],\n",
       "       [313],\n",
       "       [312],\n",
       "       [301],\n",
       "       [322],\n",
       "       [315],\n",
       "       [317],\n",
       "       [298],\n",
       "       [313],\n",
       "       [317],\n",
       "       [314],\n",
       "       [321],\n",
       "       [310],\n",
       "       [320],\n",
       "       [311],\n",
       "       [326],\n",
       "       [312],\n",
       "       [322],\n",
       "       [309],\n",
       "       [325],\n",
       "       [309],\n",
       "       [310],\n",
       "       [292],\n",
       "       [293],\n",
       "       [299],\n",
       "       [266],\n",
       "       [289],\n",
       "       [306],\n",
       "       [276],\n",
       "       [312],\n",
       "       [277],\n",
       "       [294],\n",
       "       [255],\n",
       "       [303],\n",
       "       [260],\n",
       "       [251],\n",
       "       [295],\n",
       "       [221],\n",
       "       [276],\n",
       "       [238],\n",
       "       [254],\n",
       "       [227],\n",
       "       [233],\n",
       "       [254],\n",
       "       [241],\n",
       "       [260],\n",
       "       [239],\n",
       "       [257],\n",
       "       [248],\n",
       "       [237],\n",
       "       [247],\n",
       "       [238],\n",
       "       [266],\n",
       "       [249],\n",
       "       [266],\n",
       "       [261],\n",
       "       [270],\n",
       "       [282],\n",
       "       [273],\n",
       "       [283],\n",
       "       [274],\n",
       "       [273],\n",
       "       [265],\n",
       "       [280],\n",
       "       [269],\n",
       "       [285],\n",
       "       [276],\n",
       "       [276],\n",
       "       [289],\n",
       "       [288],\n",
       "       [282],\n",
       "       [292],\n",
       "       [292],\n",
       "       [296],\n",
       "       [298],\n",
       "       [305],\n",
       "       [307],\n",
       "       [301],\n",
       "       [302],\n",
       "       [306],\n",
       "       [301],\n",
       "       [314],\n",
       "       [303],\n",
       "       [318],\n",
       "       [305],\n",
       "       [317],\n",
       "       [308],\n",
       "       [316],\n",
       "       [311],\n",
       "       [314],\n",
       "       [318],\n",
       "       [316],\n",
       "       [319],\n",
       "       [314],\n",
       "       [330]])"
      ]
     },
     "execution_count": 31,
     "metadata": {},
     "output_type": "execute_result"
    }
   ],
   "source": [
    "predictions1=predictions.astype(int)\n",
    "predictions1"
   ]
  },
  {
   "cell_type": "markdown",
   "metadata": {},
   "source": [
    "#### ROOT MEAN SQUARED ERROR (RMSE) which is a good measure of how accurate model is\n",
    "#### If valueof RMSE is 0 it means predicted values match actual values"
   ]
  },
  {
   "cell_type": "code",
   "execution_count": 32,
   "metadata": {},
   "outputs": [],
   "source": [
    "from sklearn.metrics import mean_squared_error\n",
    "rmse = mean_squared_error(y_test, predictions)\n",
    "rmse = math.sqrt(rmse)"
   ]
  },
  {
   "cell_type": "markdown",
   "metadata": {},
   "source": [
    "##### As rmse value is not 0 which means there is some slight error in predicting the stock prices values not matching actual values due to nonzero"
   ]
  },
  {
   "cell_type": "code",
   "execution_count": 33,
   "metadata": {},
   "outputs": [
    {
     "data": {
      "text/plain": [
       "7.624610625940659"
      ]
     },
     "execution_count": 33,
     "metadata": {},
     "output_type": "execute_result"
    }
   ],
   "source": [
    "rmse"
   ]
  },
  {
   "cell_type": "markdown",
   "metadata": {},
   "source": [
    "###### Plot and Visualize data"
   ]
  },
  {
   "cell_type": "code",
   "execution_count": 34,
   "metadata": {},
   "outputs": [
    {
     "data": {
      "text/plain": [
       "880"
      ]
     },
     "execution_count": 34,
     "metadata": {},
     "output_type": "execute_result"
    }
   ],
   "source": [
    "training_data_len"
   ]
  },
  {
   "cell_type": "markdown",
   "metadata": {},
   "source": [
    "##### <br>Create train dataframe which will have stock price values from begining till length of training_data_len which is 881 i.e. training data values of stock prices </br>\n",
    "##### <br> Create dataframe valid which contains stock price data from end of length of training_data_len which means from index 881 from original stock price data till end </br>"
   ]
  },
  {
   "cell_type": "code",
   "execution_count": 35,
   "metadata": {},
   "outputs": [],
   "source": [
    "train=data_train[: training_data_len] # All the training data\n",
    "valid=data_train[training_data_len:]\n"
   ]
  },
  {
   "cell_type": "markdown",
   "metadata": {},
   "source": [
    "###### Adding a new column in valid dataframe call Pred to have all predicted stock price values"
   ]
  },
  {
   "cell_type": "code",
   "execution_count": 36,
   "metadata": {},
   "outputs": [],
   "source": [
    "valid['Pred']= predictions1 # All the predicted values for test data"
   ]
  },
  {
   "cell_type": "markdown",
   "metadata": {},
   "source": [
    "#### Visualize the data"
   ]
  },
  {
   "cell_type": "code",
   "execution_count": 37,
   "metadata": {},
   "outputs": [
    {
     "data": {
      "image/png": "[encoded data removed]",
      "text/plain": [
       "<Figure size 1152x576 with 1 Axes>"
      ]
     },
     "metadata": {
      "needs_background": "light"
     },
     "output_type": "display_data"
    }
   ],
   "source": [
    "import matplotlib.pyplot as plt\n",
    "plt.figure(figsize=(16,8))\n",
    "plt.title(\"Model\")\n",
    "plt.xlabel(\"Date(Days)\", fontsize=18)\n",
    "plt.ylabel('Close Price USD ($)',fontsize=18)\n",
    "plt.plot(train['close'])\n",
    "plt.plot(valid[['close','Pred']])\n",
    "plt.legend(['Train','Actual Value','Predictions'],loc='lower right')\n",
    "plt.show()"
   ]
  },
  {
   "cell_type": "markdown",
   "metadata": {},
   "source": [
    "#### <br>Observations: </br>\n",
    "<br>1: You can observe that actual stock prices are nearly close to predicted stock price values for test data. </br>\n",
    "<br>2:  At the begining of test data from date in days say around 881 actual stock price values and predicted values are matching but slowly slowly at later stage there is very very slight difference in actual and predicted values. </br>"
   ]
  },
  {
   "cell_type": "markdown",
   "metadata": {},
   "source": [
    "#### Predictions for next 15 future days"
   ]
  },
  {
   "cell_type": "code",
   "execution_count": 38,
   "metadata": {},
   "outputs": [
    {
     "data": {
      "text/plain": [
       "437"
      ]
     },
     "execution_count": 38,
     "metadata": {},
     "output_type": "execute_result"
    }
   ],
   "source": [
    "len(test_data)"
   ]
  },
  {
   "cell_type": "markdown",
   "metadata": {},
   "source": [
    "##### <br>Create a numpy array which will be input for future 15 days prediction of stock prices by taking past 60 days stock price values </br>\n",
    "##### <br> So it will be requiring past 60 days data new numpy array will start from length of test_data (437)-60 =377 till the end and reshaping it because for each new day it will consider past 60 stock prices as single row i.e. single input  and past 60 values as columns</br> "
   ]
  },
  {
   "cell_type": "code",
   "execution_count": 39,
   "metadata": {},
   "outputs": [
    {
     "data": {
      "text/plain": [
       "(1, 60)"
      ]
     },
     "execution_count": 39,
     "metadata": {},
     "output_type": "execute_result"
    }
   ],
   "source": [
    "x_input=test_data[377:].reshape(1,-1) \n",
    "x_input.shape"
   ]
  },
  {
   "cell_type": "markdown",
   "metadata": {},
   "source": [
    "#### Converting it to list"
   ]
  },
  {
   "cell_type": "code",
   "execution_count": 40,
   "metadata": {},
   "outputs": [
    {
     "data": {
      "text/plain": [
       "[array([0.7717588 , 0.62467094, 0.66847647, 0.64301579, 0.63524186,\n",
       "        0.5713228 , 0.55129154, 0.64387957, 0.63828562, 0.6914281 ,\n",
       "        0.64741691, 0.6764972 , 0.67435834, 0.61932379, 0.63585884,\n",
       "        0.62138039, 0.70800428, 0.69550016, 0.72281178, 0.73070911,\n",
       "        0.75234452, 0.80910661, 0.79833004, 0.80762586, 0.79162553,\n",
       "        0.76748108, 0.73227213, 0.76406713, 0.75966601, 0.79232478,\n",
       "        0.79314742, 0.77426785, 0.81190359, 0.83687068, 0.81741527,\n",
       "        0.83423824, 0.85233629, 0.8649638 , 0.87775584, 0.90403916,\n",
       "        0.92411155, 0.90930405, 0.89383843, 0.90161237, 0.89408523,\n",
       "        0.92390589, 0.91641987, 0.94146923, 0.93167983, 0.94007075,\n",
       "        0.93118625, 0.93686245, 0.9374383 , 0.93616321, 0.9522458 ,\n",
       "        0.95837447, 0.96569595, 0.95417901, 0.99193814, 1.        ])]"
      ]
     },
     "execution_count": 40,
     "metadata": {},
     "output_type": "execute_result"
    }
   ],
   "source": [
    "temp_input=list(x_input)\n",
    "temp_input"
   ]
  },
  {
   "cell_type": "code",
   "execution_count": 41,
   "metadata": {},
   "outputs": [],
   "source": [
    "temp_input=temp_input[0].tolist()"
   ]
  },
  {
   "cell_type": "code",
   "execution_count": 42,
   "metadata": {},
   "outputs": [
    {
     "data": {
      "text/plain": [
       "[0.7717588022375783,\n",
       " 0.6246709443896019,\n",
       " 0.6684764725238568,\n",
       " 0.6430157946692991,\n",
       " 0.6352418558736428,\n",
       " 0.5713228035538007,\n",
       " 0.5512915432708128,\n",
       " 0.6438795656465943,\n",
       " 0.6382856202698257,\n",
       " 0.6914281013491281,\n",
       " 0.6474169134583747,\n",
       " 0.6764972030273118,\n",
       " 0.6743583415597236,\n",
       " 0.6193237907206319,\n",
       " 0.6358588351431393,\n",
       " 0.6213803882856204,\n",
       " 0.7080042777229354,\n",
       " 0.6955001645278054,\n",
       " 0.7228117801908525,\n",
       " 0.7307091148404081,\n",
       " 0.7523445212240871,\n",
       " 0.8091066140177692,\n",
       " 0.7983300427772295,\n",
       " 0.8076258637709774,\n",
       " 0.7916255347153671,\n",
       " 0.7674810793024023,\n",
       " 0.7322721289897995,\n",
       " 0.7640671273445214,\n",
       " 0.7596660085554459,\n",
       " 0.7923247778874631,\n",
       " 0.7931474169134587,\n",
       " 0.7742678512668641,\n",
       " 0.8119035867061535,\n",
       " 0.8368706811451136,\n",
       " 0.8174152681803226,\n",
       " 0.8342382362619285,\n",
       " 0.8523362948338271,\n",
       " 0.8649638038828564,\n",
       " 0.8777558407370847,\n",
       " 0.9040391576176374,\n",
       " 0.924111549851925,\n",
       " 0.9093040473840082,\n",
       " 0.8938384336952945,\n",
       " 0.9016123724909513,\n",
       " 0.8940852254030931,\n",
       " 0.9239058900954262,\n",
       " 0.9164198749588681,\n",
       " 0.941469233300428,\n",
       " 0.9316798288910828,\n",
       " 0.9400707469562357,\n",
       " 0.9311862454754856,\n",
       " 0.9368624547548539,\n",
       " 0.9374383020730506,\n",
       " 0.9361632115827576,\n",
       " 0.9522458045409676,\n",
       " 0.9583744652846331,\n",
       " 0.9656959526159923,\n",
       " 0.9541790062520568,\n",
       " 0.9919381375452454,\n",
       " 1.0]"
      ]
     },
     "execution_count": 42,
     "metadata": {},
     "output_type": "execute_result"
    }
   ],
   "source": [
    "temp_input"
   ]
  },
  {
   "cell_type": "markdown",
   "metadata": {},
   "source": [
    "#### Predict for next 15 days"
   ]
  },
  {
   "cell_type": "code",
   "execution_count": 43,
   "metadata": {},
   "outputs": [
    {
     "name": "stdout",
     "output_type": "stream",
     "text": [
      "[0.9497523]\n",
      "61\n",
      "1 day input [0.62467094 0.66847647 0.64301579 0.63524186 0.5713228  0.55129154\n",
      " 0.64387957 0.63828562 0.6914281  0.64741691 0.6764972  0.67435834\n",
      " 0.61932379 0.63585884 0.62138039 0.70800428 0.69550016 0.72281178\n",
      " 0.73070911 0.75234452 0.80910661 0.79833004 0.80762586 0.79162553\n",
      " 0.76748108 0.73227213 0.76406713 0.75966601 0.79232478 0.79314742\n",
      " 0.77426785 0.81190359 0.83687068 0.81741527 0.83423824 0.85233629\n",
      " 0.8649638  0.87775584 0.90403916 0.92411155 0.90930405 0.89383843\n",
      " 0.90161237 0.89408523 0.92390589 0.91641987 0.94146923 0.93167983\n",
      " 0.94007075 0.93118625 0.93686245 0.9374383  0.93616321 0.9522458\n",
      " 0.95837447 0.96569595 0.95417901 0.99193814 1.         0.94975227]\n",
      "1 day output [[0.9087309]]\n",
      "2 day input [0.66847647 0.64301579 0.63524186 0.5713228  0.55129154 0.64387957\n",
      " 0.63828562 0.6914281  0.64741691 0.6764972  0.67435834 0.61932379\n",
      " 0.63585884 0.62138039 0.70800428 0.69550016 0.72281178 0.73070911\n",
      " 0.75234452 0.80910661 0.79833004 0.80762586 0.79162553 0.76748108\n",
      " 0.73227213 0.76406713 0.75966601 0.79232478 0.79314742 0.77426785\n",
      " 0.81190359 0.83687068 0.81741527 0.83423824 0.85233629 0.8649638\n",
      " 0.87775584 0.90403916 0.92411155 0.90930405 0.89383843 0.90161237\n",
      " 0.89408523 0.92390589 0.91641987 0.94146923 0.93167983 0.94007075\n",
      " 0.93118625 0.93686245 0.9374383  0.93616321 0.9522458  0.95837447\n",
      " 0.96569595 0.95417901 0.99193814 1.         0.94975227 0.90873092]\n",
      "2 day output [[0.89942664]]\n",
      "3 day input [0.64301579 0.63524186 0.5713228  0.55129154 0.64387957 0.63828562\n",
      " 0.6914281  0.64741691 0.6764972  0.67435834 0.61932379 0.63585884\n",
      " 0.62138039 0.70800428 0.69550016 0.72281178 0.73070911 0.75234452\n",
      " 0.80910661 0.79833004 0.80762586 0.79162553 0.76748108 0.73227213\n",
      " 0.76406713 0.75966601 0.79232478 0.79314742 0.77426785 0.81190359\n",
      " 0.83687068 0.81741527 0.83423824 0.85233629 0.8649638  0.87775584\n",
      " 0.90403916 0.92411155 0.90930405 0.89383843 0.90161237 0.89408523\n",
      " 0.92390589 0.91641987 0.94146923 0.93167983 0.94007075 0.93118625\n",
      " 0.93686245 0.9374383  0.93616321 0.9522458  0.95837447 0.96569595\n",
      " 0.95417901 0.99193814 1.         0.94975227 0.90873092 0.89942664]\n",
      "3 day output [[0.90149915]]\n",
      "4 day input [0.63524186 0.5713228  0.55129154 0.64387957 0.63828562 0.6914281\n",
      " 0.64741691 0.6764972  0.67435834 0.61932379 0.63585884 0.62138039\n",
      " 0.70800428 0.69550016 0.72281178 0.73070911 0.75234452 0.80910661\n",
      " 0.79833004 0.80762586 0.79162553 0.76748108 0.73227213 0.76406713\n",
      " 0.75966601 0.79232478 0.79314742 0.77426785 0.81190359 0.83687068\n",
      " 0.81741527 0.83423824 0.85233629 0.8649638  0.87775584 0.90403916\n",
      " 0.92411155 0.90930405 0.89383843 0.90161237 0.89408523 0.92390589\n",
      " 0.91641987 0.94146923 0.93167983 0.94007075 0.93118625 0.93686245\n",
      " 0.9374383  0.93616321 0.9522458  0.95837447 0.96569595 0.95417901\n",
      " 0.99193814 1.         0.94975227 0.90873092 0.89942664 0.90149915]\n",
      "4 day output [[0.899256]]\n",
      "5 day input [0.5713228  0.55129154 0.64387957 0.63828562 0.6914281  0.64741691\n",
      " 0.6764972  0.67435834 0.61932379 0.63585884 0.62138039 0.70800428\n",
      " 0.69550016 0.72281178 0.73070911 0.75234452 0.80910661 0.79833004\n",
      " 0.80762586 0.79162553 0.76748108 0.73227213 0.76406713 0.75966601\n",
      " 0.79232478 0.79314742 0.77426785 0.81190359 0.83687068 0.81741527\n",
      " 0.83423824 0.85233629 0.8649638  0.87775584 0.90403916 0.92411155\n",
      " 0.90930405 0.89383843 0.90161237 0.89408523 0.92390589 0.91641987\n",
      " 0.94146923 0.93167983 0.94007075 0.93118625 0.93686245 0.9374383\n",
      " 0.93616321 0.9522458  0.95837447 0.96569595 0.95417901 0.99193814\n",
      " 1.         0.94975227 0.90873092 0.89942664 0.90149915 0.89925599]\n",
      "5 day output [[0.89287704]]\n",
      "6 day input [0.55129154 0.64387957 0.63828562 0.6914281  0.64741691 0.6764972\n",
      " 0.67435834 0.61932379 0.63585884 0.62138039 0.70800428 0.69550016\n",
      " 0.72281178 0.73070911 0.75234452 0.80910661 0.79833004 0.80762586\n",
      " 0.79162553 0.76748108 0.73227213 0.76406713 0.75966601 0.79232478\n",
      " 0.79314742 0.77426785 0.81190359 0.83687068 0.81741527 0.83423824\n",
      " 0.85233629 0.8649638  0.87775584 0.90403916 0.92411155 0.90930405\n",
      " 0.89383843 0.90161237 0.89408523 0.92390589 0.91641987 0.94146923\n",
      " 0.93167983 0.94007075 0.93118625 0.93686245 0.9374383  0.93616321\n",
      " 0.9522458  0.95837447 0.96569595 0.95417901 0.99193814 1.\n",
      " 0.94975227 0.90873092 0.89942664 0.90149915 0.89925599 0.89287704]\n",
      "6 day output [[0.88650745]]\n",
      "7 day input [0.64387957 0.63828562 0.6914281  0.64741691 0.6764972  0.67435834\n",
      " 0.61932379 0.63585884 0.62138039 0.70800428 0.69550016 0.72281178\n",
      " 0.73070911 0.75234452 0.80910661 0.79833004 0.80762586 0.79162553\n",
      " 0.76748108 0.73227213 0.76406713 0.75966601 0.79232478 0.79314742\n",
      " 0.77426785 0.81190359 0.83687068 0.81741527 0.83423824 0.85233629\n",
      " 0.8649638  0.87775584 0.90403916 0.92411155 0.90930405 0.89383843\n",
      " 0.90161237 0.89408523 0.92390589 0.91641987 0.94146923 0.93167983\n",
      " 0.94007075 0.93118625 0.93686245 0.9374383  0.93616321 0.9522458\n",
      " 0.95837447 0.96569595 0.95417901 0.99193814 1.         0.94975227\n",
      " 0.90873092 0.89942664 0.90149915 0.89925599 0.89287704 0.88650745]\n",
      "7 day output [[0.88133776]]\n",
      "8 day input [0.63828562 0.6914281  0.64741691 0.6764972  0.67435834 0.61932379\n",
      " 0.63585884 0.62138039 0.70800428 0.69550016 0.72281178 0.73070911\n",
      " 0.75234452 0.80910661 0.79833004 0.80762586 0.79162553 0.76748108\n",
      " 0.73227213 0.76406713 0.75966601 0.79232478 0.79314742 0.77426785\n",
      " 0.81190359 0.83687068 0.81741527 0.83423824 0.85233629 0.8649638\n",
      " 0.87775584 0.90403916 0.92411155 0.90930405 0.89383843 0.90161237\n",
      " 0.89408523 0.92390589 0.91641987 0.94146923 0.93167983 0.94007075\n",
      " 0.93118625 0.93686245 0.9374383  0.93616321 0.9522458  0.95837447\n",
      " 0.96569595 0.95417901 0.99193814 1.         0.94975227 0.90873092\n",
      " 0.89942664 0.90149915 0.89925599 0.89287704 0.88650745 0.88133776]\n",
      "8 day output [[0.87656343]]\n",
      "9 day input [0.6914281  0.64741691 0.6764972  0.67435834 0.61932379 0.63585884\n",
      " 0.62138039 0.70800428 0.69550016 0.72281178 0.73070911 0.75234452\n",
      " 0.80910661 0.79833004 0.80762586 0.79162553 0.76748108 0.73227213\n",
      " 0.76406713 0.75966601 0.79232478 0.79314742 0.77426785 0.81190359\n",
      " 0.83687068 0.81741527 0.83423824 0.85233629 0.8649638  0.87775584\n",
      " 0.90403916 0.92411155 0.90930405 0.89383843 0.90161237 0.89408523\n",
      " 0.92390589 0.91641987 0.94146923 0.93167983 0.94007075 0.93118625\n",
      " 0.93686245 0.9374383  0.93616321 0.9522458  0.95837447 0.96569595\n",
      " 0.95417901 0.99193814 1.         0.94975227 0.90873092 0.89942664\n",
      " 0.90149915 0.89925599 0.89287704 0.88650745 0.88133776 0.87656343]\n",
      "9 day output [[0.8715312]]\n",
      "10 day input [0.64741691 0.6764972  0.67435834 0.61932379 0.63585884 0.62138039\n",
      " 0.70800428 0.69550016 0.72281178 0.73070911 0.75234452 0.80910661\n",
      " 0.79833004 0.80762586 0.79162553 0.76748108 0.73227213 0.76406713\n",
      " 0.75966601 0.79232478 0.79314742 0.77426785 0.81190359 0.83687068\n",
      " 0.81741527 0.83423824 0.85233629 0.8649638  0.87775584 0.90403916\n",
      " 0.92411155 0.90930405 0.89383843 0.90161237 0.89408523 0.92390589\n",
      " 0.91641987 0.94146923 0.93167983 0.94007075 0.93118625 0.93686245\n",
      " 0.9374383  0.93616321 0.9522458  0.95837447 0.96569595 0.95417901\n",
      " 0.99193814 1.         0.94975227 0.90873092 0.89942664 0.90149915\n",
      " 0.89925599 0.89287704 0.88650745 0.88133776 0.87656343 0.87153119]\n",
      "10 day output [[0.86620057]]\n",
      "11 day input [0.6764972  0.67435834 0.61932379 0.63585884 0.62138039 0.70800428\n",
      " 0.69550016 0.72281178 0.73070911 0.75234452 0.80910661 0.79833004\n",
      " 0.80762586 0.79162553 0.76748108 0.73227213 0.76406713 0.75966601\n",
      " 0.79232478 0.79314742 0.77426785 0.81190359 0.83687068 0.81741527\n",
      " 0.83423824 0.85233629 0.8649638  0.87775584 0.90403916 0.92411155\n",
      " 0.90930405 0.89383843 0.90161237 0.89408523 0.92390589 0.91641987\n",
      " 0.94146923 0.93167983 0.94007075 0.93118625 0.93686245 0.9374383\n",
      " 0.93616321 0.9522458  0.95837447 0.96569595 0.95417901 0.99193814\n",
      " 1.         0.94975227 0.90873092 0.89942664 0.90149915 0.89925599\n",
      " 0.89287704 0.88650745 0.88133776 0.87656343 0.87153119 0.86620057]\n",
      "11 day output [[0.86074144]]\n",
      "12 day input [0.67435834 0.61932379 0.63585884 0.62138039 0.70800428 0.69550016\n",
      " 0.72281178 0.73070911 0.75234452 0.80910661 0.79833004 0.80762586\n",
      " 0.79162553 0.76748108 0.73227213 0.76406713 0.75966601 0.79232478\n",
      " 0.79314742 0.77426785 0.81190359 0.83687068 0.81741527 0.83423824\n",
      " 0.85233629 0.8649638  0.87775584 0.90403916 0.92411155 0.90930405\n",
      " 0.89383843 0.90161237 0.89408523 0.92390589 0.91641987 0.94146923\n",
      " 0.93167983 0.94007075 0.93118625 0.93686245 0.9374383  0.93616321\n",
      " 0.9522458  0.95837447 0.96569595 0.95417901 0.99193814 1.\n",
      " 0.94975227 0.90873092 0.89942664 0.90149915 0.89925599 0.89287704\n",
      " 0.88650745 0.88133776 0.87656343 0.87153119 0.86620057 0.86074144]\n",
      "12 day output [[0.8552654]]\n",
      "13 day input [0.61932379 0.63585884 0.62138039 0.70800428 0.69550016 0.72281178\n",
      " 0.73070911 0.75234452 0.80910661 0.79833004 0.80762586 0.79162553\n",
      " 0.76748108 0.73227213 0.76406713 0.75966601 0.79232478 0.79314742\n",
      " 0.77426785 0.81190359 0.83687068 0.81741527 0.83423824 0.85233629\n",
      " 0.8649638  0.87775584 0.90403916 0.92411155 0.90930405 0.89383843\n",
      " 0.90161237 0.89408523 0.92390589 0.91641987 0.94146923 0.93167983\n",
      " 0.94007075 0.93118625 0.93686245 0.9374383  0.93616321 0.9522458\n",
      " 0.95837447 0.96569595 0.95417901 0.99193814 1.         0.94975227\n",
      " 0.90873092 0.89942664 0.90149915 0.89925599 0.89287704 0.88650745\n",
      " 0.88133776 0.87656343 0.87153119 0.86620057 0.86074144 0.85526538]\n",
      "13 day output [[0.8498174]]\n",
      "14 day input [0.63585884 0.62138039 0.70800428 0.69550016 0.72281178 0.73070911\n",
      " 0.75234452 0.80910661 0.79833004 0.80762586 0.79162553 0.76748108\n",
      " 0.73227213 0.76406713 0.75966601 0.79232478 0.79314742 0.77426785\n",
      " 0.81190359 0.83687068 0.81741527 0.83423824 0.85233629 0.8649638\n",
      " 0.87775584 0.90403916 0.92411155 0.90930405 0.89383843 0.90161237\n",
      " 0.89408523 0.92390589 0.91641987 0.94146923 0.93167983 0.94007075\n",
      " 0.93118625 0.93686245 0.9374383  0.93616321 0.9522458  0.95837447\n",
      " 0.96569595 0.95417901 0.99193814 1.         0.94975227 0.90873092\n",
      " 0.89942664 0.90149915 0.89925599 0.89287704 0.88650745 0.88133776\n",
      " 0.87656343 0.87153119 0.86620057 0.86074144 0.85526538 0.8498174 ]\n",
      "14 day output [[0.8444295]]\n",
      "[[0.9497522711753845], [0.9087309241294861], [0.8994266390800476], [0.9014991521835327], [0.8992559909820557], [0.8928770422935486], [0.8865074515342712], [0.8813377618789673], [0.8765634298324585], [0.8715311884880066], [0.8662005662918091], [0.8607414364814758], [0.8552653789520264], [0.8498173952102661], [0.8444294929504395]]\n"
     ]
    }
   ],
   "source": [
    "from numpy import array\n",
    "lst_output=[] # empty list where all new value or future are added\n",
    "n_steps=60\n",
    "i=0\n",
    "while(i<15):\n",
    "    \n",
    "    if(len(temp_input)>60):\n",
    "        x_input=np.array(temp_input[1:]) # Ignoring the 0th row because it is the old value\n",
    "        print(\"{} day input {}\".format(i,x_input))\n",
    "        x_input=x_input.reshape(1,-1)  # Because it will give single input i.e. single row of past 60 values to predict for new future value\n",
    "        x_input = x_input.reshape((1, n_steps, 1)) # # dimension for LSTM to predict\n",
    "        yhat = model.predict(x_input, verbose=0) # numpy.ndarray\n",
    "        print(\"{} day output {}\".format(i,yhat))\n",
    "        temp_input.extend(yhat[0].tolist()) # add the new predicted value into temp-input\n",
    "        temp_input=temp_input[1:] # Taking all values from 1 row to end \n",
    "        lst_output.extend(yhat.tolist()) # add the new predicted value into empty list\n",
    "        i=i+1\n",
    "    else: \n",
    "        x_input = x_input.reshape((1, n_steps,1))\n",
    "        yhat = model.predict(x_input, verbose=0) # numpy.ndarray\n",
    "        print(yhat[0])\n",
    "        temp_input.extend(yhat[0].tolist()) # Converting numpy.ndarray to list\n",
    "        print(len(temp_input))\n",
    "        lst_output.extend(yhat.tolist()) # add predicted value into empty list\n",
    "        i=i+1\n",
    "    \n",
    "\n",
    "print(lst_output)"
   ]
  },
  {
   "cell_type": "markdown",
   "metadata": {},
   "source": [
    "#####  ELSE PART"
   ]
  },
  {
   "cell_type": "markdown",
   "metadata": {},
   "source": [
    "<br> At first it will go into else part because temp_input has 60 values . In else part it will first reshape it to 3 dimensions.</br>\n",
    " <br> Then it will predict for that single input in x_input (containing 60 values) where output for prediction is numpy.ndarray.</br>\n",
    "<br> Put that predicted value into temp_input which now has in total 61 values. Also, put the predicted value into empty list lst_output which contains only predicted values of future 15 days </br>"
   ]
  },
  {
   "cell_type": "markdown",
   "metadata": {},
   "source": [
    "##### IF PART"
   ]
  },
  {
   "cell_type": "markdown",
   "metadata": {},
   "source": [
    "<br>For if part if it will enter it has values greater than 15 because we want to predict for next 15 days by considering past 60 days stock price values</br>\n",
    "<br>For 1st iteration for in if part x_input will consider only last 60 values as it will make prediction for new value based on past 60 values.</br>\n",
    "<br>Here again x_input is reshape so as it has single input i.e. single row of past 60 values which is then again reshape into 3 dimension for prediction by LSTM model.</br>\n",
    "<br>new predicted value is added into temp_input .</br>\n",
    "<br>Consider temp_input from 1st row because everytime we want to consider new value based on past 60 days values so at every iteration we are considering only past 60 values.</br>\n",
    "<br>Add new predicted value into list lst_output.</br>\n",
    "<br> Continue till we get 15 days future values</br>"
   ]
  },
  {
   "cell_type": "markdown",
   "metadata": {},
   "source": [
    "##### Plotting for future 15 days"
   ]
  },
  {
   "cell_type": "markdown",
   "metadata": {},
   "source": [
    "#### Creating numpy array of day_new and day_pred which will take values of 60 days and 15(future days) respectively"
   ]
  },
  {
   "cell_type": "code",
   "execution_count": 44,
   "metadata": {},
   "outputs": [],
   "source": [
    "day_new=np.arange(1,61)\n",
    "day_pred=np.arange(61,76)\n"
   ]
  },
  {
   "cell_type": "markdown",
   "metadata": {},
   "source": [
    "#### Inversing Transform of future 15 days predicted values because converting scaled values into original values for plotting "
   ]
  },
  {
   "cell_type": "code",
   "execution_count": 45,
   "metadata": {},
   "outputs": [
    {
     "data": {
      "text/plain": [
       "array([[321.24377217],\n",
       "       [311.27066227],\n",
       "       [309.00860449],\n",
       "       [309.51247388],\n",
       "       [308.96711653],\n",
       "       [307.41626652],\n",
       "       [305.86769162],\n",
       "       [304.61083667],\n",
       "       [303.45010106],\n",
       "       [302.22666255],\n",
       "       [300.93068168],\n",
       "       [299.60345804],\n",
       "       [298.27211893],\n",
       "       [296.94760512],\n",
       "       [295.63769833]])"
      ]
     },
     "execution_count": 45,
     "metadata": {},
     "output_type": "execute_result"
    }
   ],
   "source": [
    "ou=sc.inverse_transform(lst_output)\n",
    "ou"
   ]
  },
  {
   "cell_type": "markdown",
   "metadata": {},
   "source": [
    "#### Plotting from 1197 days till end of original stock price data which is till last day"
   ]
  },
  {
   "cell_type": "code",
   "execution_count": 46,
   "metadata": {},
   "outputs": [
    {
     "data": {
      "text/plain": [
       "Text(0, 0.5, 'Stock Price value in USD($)')"
      ]
     },
     "execution_count": 46,
     "metadata": {},
     "output_type": "execute_result"
    },
    {
     "data": {
      "image/png": "[encoded data removed]",
      "text/plain": [
       "<Figure size 432x288 with 1 Axes>"
      ]
     },
     "metadata": {
      "needs_background": "light"
     },
     "output_type": "display_data"
    }
   ],
   "source": [
    "plt.plot(day_new,(data_train[1197:]))\n",
    "plt.plot(day_pred,sc.inverse_transform(lst_output))\n",
    "plt.legend(['Actual Value','Predicted Stock Price for future 15 days'],loc='lower right')\n",
    "plt.xlabel(\"Days\")\n",
    "plt.ylabel(\"Stock Price value in USD($)\")"
   ]
  },
  {
   "cell_type": "markdown",
   "metadata": {},
   "source": [
    "#### <br> Observations: </br>\n",
    "<br>1.You can see that the predicted stock price values for future 15 days is low than actual stock prices values till date. </br>\n",
    "<br> 2. Future values is dipping from 321 to 295 while actual stock price values was increasing till date and was around 340. </br>"
   ]
  },
  {
   "cell_type": "markdown",
   "metadata": {},
   "source": [
    "#### Merging values from actual values till date and future 15 days stock price values"
   ]
  },
  {
   "cell_type": "code",
   "execution_count": 47,
   "metadata": {},
   "outputs": [
    {
     "data": {
      "text/plain": [
       "Text(0.5, 1.0, 'Stock Price Values of Apple in USD($) including future 15 days stock Price values')"
      ]
     },
     "execution_count": 47,
     "metadata": {},
     "output_type": "execute_result"
    },
    {
     "data": {
      "image/png": "[encoded data removed]",
      "text/plain": [
       "<Figure size 432x288 with 1 Axes>"
      ]
     },
     "metadata": {
      "needs_background": "light"
     },
     "output_type": "display_data"
    }
   ],
   "source": [
    "df3=data_train.values.tolist() # because lst_output is a list so converting data_train into list\n",
    "df3.extend(sc.inverse_transform(lst_output))\n",
    "plt.plot(df3[1200:])\n",
    "plt.xlabel(\"Days\")\n",
    "plt.ylabel(\"Stock Price value in USD($)\")\n",
    "plt.title('Stock Price Values of Apple in USD($) including future 15 days stock Price values')"
   ]
  },
  {
   "cell_type": "markdown",
   "metadata": {},
   "source": [
    "### <br> Conclusion: </br>\n",
    "###### <br> 1. Stock Price values of Apple is decreasing in next 15 days </br>\n",
    "###### <br> 2. Actual Stock prices till date is high comapred to new future 15 days values </br>\n",
    "###### <br> 3. Not to invest in Apple stocks in next 15 days due to dipping value </br>"
   ]
  }
 ],
 "metadata": {
  "kernelspec": {
   "display_name": "Python 3",
   "language": "python",
   "name": "python3"
  },
  "language_info": {
   "codemirror_mode": {
    "name": "ipython",
    "version": 3
   },
   "file_extension": ".py",
   "mimetype": "text/x-python",
   "name": "python",
   "nbconvert_exporter": "python",
   "pygments_lexer": "ipython3",
   "version": "3.7.7"
  }
 },
 "nbformat": 4,
 "nbformat_minor": 4
}
